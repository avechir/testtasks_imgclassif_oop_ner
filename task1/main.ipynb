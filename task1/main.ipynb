{
 "cells": [
  {
   "cell_type": "code",
   "execution_count": 2,
   "metadata": {
    "executionInfo": {
     "elapsed": 5394,
     "status": "ok",
     "timestamp": 1740262881270,
     "user": {
      "displayName": "Анна Вечірська",
      "userId": "09847765497451588166"
     },
     "user_tz": -120
    },
    "id": "NhmkSextZLL7"
   },
   "outputs": [],
   "source": [
    "import numpy as np\n",
    "import matplotlib.pyplot as plt\n",
    "import tensorflow as tf\n",
    "from tensorflow import keras\n",
    "from sklearn.metrics import accuracy_score\n",
    "from keras.utils import to_categorical"
   ]
  },
  {
   "cell_type": "code",
   "execution_count": null,
   "metadata": {
    "executionInfo": {
     "elapsed": 6,
     "status": "ok",
     "timestamp": 1740262881282,
     "user": {
      "displayName": "Анна Вечірська",
      "userId": "09847765497451588166"
     },
     "user_tz": -120
    },
    "id": "jiaDsaJsabvh"
   },
   "outputs": [],
   "source": [
    "import sys\n",
    "# path to the folder with modules\n",
    "sys.path.append('/task1/')"
   ]
  },
  {
   "cell_type": "code",
   "execution_count": 5,
   "metadata": {
    "executionInfo": {
     "elapsed": 6745,
     "status": "ok",
     "timestamp": 1740262888114,
     "user": {
      "displayName": "Анна Вечірська",
      "userId": "09847765497451588166"
     },
     "user_tz": -120
    },
    "id": "i6PwNIx_ZLL9"
   },
   "outputs": [],
   "source": [
    "from MnistClassifier import MnistClassifier\n",
    "from RandomForest import RandomForest\n",
    "from FeedForwardNN import FeedForwardNN\n",
    "from ConvolutionalNeuralNetwork import CNN"
   ]
  },
  {
   "cell_type": "code",
   "execution_count": 6,
   "metadata": {
    "colab": {
     "base_uri": "https://localhost:8080/"
    },
    "executionInfo": {
     "elapsed": 2347,
     "status": "ok",
     "timestamp": 1740262890480,
     "user": {
      "displayName": "Анна Вечірська",
      "userId": "09847765497451588166"
     },
     "user_tz": -120
    },
    "id": "V_I7Bc1jZLL9",
    "outputId": "b5af8670-9bc3-4c50-a547-485a36ca0e3c"
   },
   "outputs": [
    {
     "name": "stdout",
     "output_type": "stream",
     "text": [
      "Downloading data from https://storage.googleapis.com/tensorflow/tf-keras-datasets/mnist.npz\n",
      "\u001b[1m11490434/11490434\u001b[0m \u001b[32m━━━━━━━━━━━━━━━━━━━━\u001b[0m\u001b[37m\u001b[0m \u001b[1m2s\u001b[0m 0us/step\n"
     ]
    }
   ],
   "source": [
    "mnist = tf.keras.datasets.mnist\n",
    "(X_train, y_train), (X_test, y_test) = mnist.load_data()"
   ]
  },
  {
   "cell_type": "code",
   "execution_count": 7,
   "metadata": {
    "executionInfo": {
     "elapsed": 129,
     "status": "ok",
     "timestamp": 1740262890612,
     "user": {
      "displayName": "Анна Вечірська",
      "userId": "09847765497451588166"
     },
     "user_tz": -120
    },
    "id": "o0FKUymnZLL-"
   },
   "outputs": [],
   "source": [
    "X_train, X_test = X_train / 255.0, X_test / 255.0\n",
    "\n",
    "X_train_vect = X_train.reshape(-1, 784)\n",
    "X_test_vect = X_test.reshape(-1, 784)\n",
    "\n",
    "X_train_cnn = X_train.reshape(-1, 28, 28, 1)\n",
    "X_test_cnn = X_test.reshape(-1, 28, 28, 1)"
   ]
  },
  {
   "cell_type": "code",
   "execution_count": 8,
   "metadata": {
    "executionInfo": {
     "elapsed": 6,
     "status": "ok",
     "timestamp": 1740262890624,
     "user": {
      "displayName": "Анна Вечірська",
      "userId": "09847765497451588166"
     },
     "user_tz": -120
    },
    "id": "c4CJFrxSZLL-"
   },
   "outputs": [],
   "source": [
    "y_train_cat = to_categorical(y_train, num_classes=10)"
   ]
  },
  {
   "cell_type": "code",
   "execution_count": 9,
   "metadata": {
    "colab": {
     "base_uri": "https://localhost:8080/"
    },
    "executionInfo": {
     "elapsed": 47210,
     "status": "ok",
     "timestamp": 1740261984612,
     "user": {
      "displayName": "Анна Вечірська",
      "userId": "09847765497451588166"
     },
     "user_tz": -120
    },
    "id": "LORJDrebZLL_",
    "outputId": "e45b7712-5de7-49f6-959b-191e167c17e5"
   },
   "outputs": [
    {
     "name": "stdout",
     "output_type": "stream",
     "text": [
      "RandomForest\n",
      "training\n",
      "predicting\n",
      "Accuracy: 0.9704\n"
     ]
    }
   ],
   "source": [
    "print(\"RandomForest\")\n",
    "rf = RandomForest()\n",
    "classifier = MnistClassifier(rf)\n",
    "classifier.train(X_train_vect, y_train)\n",
    "predictions = classifier.predict(X_test_vect)\n",
    "# print(predictions[:10])\n",
    "accuracy = accuracy_score(y_test, predictions)\n",
    "print(f\"Accuracy: {accuracy:.4f}\")"
   ]
  },
  {
   "cell_type": "code",
   "execution_count": 9,
   "metadata": {
    "colab": {
     "base_uri": "https://localhost:8080/"
    },
    "executionInfo": {
     "elapsed": 23083,
     "status": "ok",
     "timestamp": 1740262913730,
     "user": {
      "displayName": "Анна Вечірська",
      "userId": "09847765497451588166"
     },
     "user_tz": -120
    },
    "id": "_zpQk_tmZLMA",
    "outputId": "8a7b5d48-fb4b-4ec1-dc7f-e1ed5a3d4d58"
   },
   "outputs": [
    {
     "name": "stdout",
     "output_type": "stream",
     "text": [
      "NN\n"
     ]
    },
    {
     "name": "stderr",
     "output_type": "stream",
     "text": [
      "/usr/local/lib/python3.11/dist-packages/keras/src/layers/core/dense.py:87: UserWarning: Do not pass an `input_shape`/`input_dim` argument to a layer. When using Sequential models, prefer using an `Input(shape)` object as the first layer in the model instead.\n",
      "  super().__init__(activity_regularizer=activity_regularizer, **kwargs)\n"
     ]
    },
    {
     "name": "stdout",
     "output_type": "stream",
     "text": [
      "training\n",
      "Epoch 1/10\n",
      "\u001b[1m422/422\u001b[0m \u001b[32m━━━━━━━━━━━━━━━━━━━━\u001b[0m\u001b[37m\u001b[0m \u001b[1m5s\u001b[0m 7ms/step - accuracy: 0.7740 - loss: 0.7929 - val_accuracy: 0.9492 - val_loss: 0.1956\n",
      "Epoch 2/10\n",
      "\u001b[1m422/422\u001b[0m \u001b[32m━━━━━━━━━━━━━━━━━━━━\u001b[0m\u001b[37m\u001b[0m \u001b[1m2s\u001b[0m 3ms/step - accuracy: 0.9291 - loss: 0.2451 - val_accuracy: 0.9618 - val_loss: 0.1429\n",
      "Epoch 3/10\n",
      "\u001b[1m422/422\u001b[0m \u001b[32m━━━━━━━━━━━━━━━━━━━━\u001b[0m\u001b[37m\u001b[0m \u001b[1m1s\u001b[0m 3ms/step - accuracy: 0.9488 - loss: 0.1766 - val_accuracy: 0.9693 - val_loss: 0.1135\n",
      "Epoch 4/10\n",
      "\u001b[1m422/422\u001b[0m \u001b[32m━━━━━━━━━━━━━━━━━━━━\u001b[0m\u001b[37m\u001b[0m \u001b[1m2s\u001b[0m 4ms/step - accuracy: 0.9594 - loss: 0.1385 - val_accuracy: 0.9727 - val_loss: 0.0990\n",
      "Epoch 5/10\n",
      "\u001b[1m422/422\u001b[0m \u001b[32m━━━━━━━━━━━━━━━━━━━━\u001b[0m\u001b[37m\u001b[0m \u001b[1m2s\u001b[0m 3ms/step - accuracy: 0.9657 - loss: 0.1150 - val_accuracy: 0.9742 - val_loss: 0.0871\n",
      "Epoch 6/10\n",
      "\u001b[1m422/422\u001b[0m \u001b[32m━━━━━━━━━━━━━━━━━━━━\u001b[0m\u001b[37m\u001b[0m \u001b[1m1s\u001b[0m 3ms/step - accuracy: 0.9718 - loss: 0.1009 - val_accuracy: 0.9757 - val_loss: 0.0857\n",
      "Epoch 7/10\n",
      "\u001b[1m422/422\u001b[0m \u001b[32m━━━━━━━━━━━━━━━━━━━━\u001b[0m\u001b[37m\u001b[0m \u001b[1m1s\u001b[0m 3ms/step - accuracy: 0.9741 - loss: 0.0886 - val_accuracy: 0.9787 - val_loss: 0.0752\n",
      "Epoch 8/10\n",
      "\u001b[1m422/422\u001b[0m \u001b[32m━━━━━━━━━━━━━━━━━━━━\u001b[0m\u001b[37m\u001b[0m \u001b[1m1s\u001b[0m 3ms/step - accuracy: 0.9773 - loss: 0.0778 - val_accuracy: 0.9788 - val_loss: 0.0707\n",
      "Epoch 9/10\n",
      "\u001b[1m422/422\u001b[0m \u001b[32m━━━━━━━━━━━━━━━━━━━━\u001b[0m\u001b[37m\u001b[0m \u001b[1m1s\u001b[0m 3ms/step - accuracy: 0.9814 - loss: 0.0669 - val_accuracy: 0.9795 - val_loss: 0.0692\n",
      "Epoch 10/10\n",
      "\u001b[1m422/422\u001b[0m \u001b[32m━━━━━━━━━━━━━━━━━━━━\u001b[0m\u001b[37m\u001b[0m \u001b[1m1s\u001b[0m 3ms/step - accuracy: 0.9826 - loss: 0.0606 - val_accuracy: 0.9797 - val_loss: 0.0673\n",
      "predicting\n",
      "\u001b[1m313/313\u001b[0m \u001b[32m━━━━━━━━━━━━━━━━━━━━\u001b[0m\u001b[37m\u001b[0m \u001b[1m1s\u001b[0m 2ms/step\n",
      "Accuracy: 0.9794\n"
     ]
    }
   ],
   "source": [
    "print(\"NN\")\n",
    "nn = FeedForwardNN(learning_rate = 0.0005)\n",
    "classifier = MnistClassifier(nn)\n",
    "classifier.train(X_train_vect, y_train_cat, epochs = 10, batch_size=128)\n",
    "predictions = classifier.predict(X_test_vect)\n",
    "predictions_classes = np.argmax(predictions, axis=1)\n",
    "accuracy = accuracy_score(y_test, predictions_classes)\n",
    "print(f\"Accuracy: {accuracy:.4f}\")"
   ]
  },
  {
   "cell_type": "code",
   "execution_count": 10,
   "metadata": {
    "colab": {
     "base_uri": "https://localhost:8080/",
     "height": 472
    },
    "executionInfo": {
     "elapsed": 467,
     "status": "ok",
     "timestamp": 1740262965300,
     "user": {
      "displayName": "Анна Вечірська",
      "userId": "09847765497451588166"
     },
     "user_tz": -120
    },
    "id": "WM2SscASmvQ3",
    "outputId": "afdb1acf-8e28-4291-d746-d7e5f4c9e913"
   },
   "outputs": [
    {
     "data": {
      "image/png": "[encoded data removed]",
      "text/plain": [
       "<Figure size 640x480 with 1 Axes>"
      ]
     },
     "metadata": {},
     "output_type": "display_data"
    }
   ],
   "source": [
    "history = nn.history.history\n",
    "plt.plot(history['loss'], label='Train loss')\n",
    "plt.plot(history['val_loss'], label='Validation loss')\n",
    "plt.title(\"Feed Forward Neural Network Training Loss\")\n",
    "plt.xlabel(\"Epochs\")\n",
    "plt.ylabel(\"Loss\")\n",
    "plt.legend()\n",
    "plt.show()"
   ]
  },
  {
   "cell_type": "code",
   "execution_count": 13,
   "metadata": {
    "colab": {
     "base_uri": "https://localhost:8080/"
    },
    "executionInfo": {
     "elapsed": 60844,
     "status": "ok",
     "timestamp": 1740263127528,
     "user": {
      "displayName": "Анна Вечірська",
      "userId": "09847765497451588166"
     },
     "user_tz": -120
    },
    "id": "CSJ7ITKBZLMA",
    "outputId": "18a40483-5d33-418b-f449-2a52721a7fb5"
   },
   "outputs": [
    {
     "name": "stdout",
     "output_type": "stream",
     "text": [
      "CNN\n",
      "training\n",
      "Epoch 1/7\n",
      "\u001b[1m1688/1688\u001b[0m \u001b[32m━━━━━━━━━━━━━━━━━━━━\u001b[0m\u001b[37m\u001b[0m \u001b[1m11s\u001b[0m 4ms/step - accuracy: 0.8326 - loss: 0.6112 - val_accuracy: 0.9745 - val_loss: 0.0959\n",
      "Epoch 2/7\n",
      "\u001b[1m1688/1688\u001b[0m \u001b[32m━━━━━━━━━━━━━━━━━━━━\u001b[0m\u001b[37m\u001b[0m \u001b[1m9s\u001b[0m 4ms/step - accuracy: 0.9718 - loss: 0.0993 - val_accuracy: 0.9788 - val_loss: 0.0716\n",
      "Epoch 3/7\n",
      "\u001b[1m1688/1688\u001b[0m \u001b[32m━━━━━━━━━━━━━━━━━━━━\u001b[0m\u001b[37m\u001b[0m \u001b[1m10s\u001b[0m 4ms/step - accuracy: 0.9809 - loss: 0.0629 - val_accuracy: 0.9842 - val_loss: 0.0553\n",
      "Epoch 4/7\n",
      "\u001b[1m1688/1688\u001b[0m \u001b[32m━━━━━━━━━━━━━━━━━━━━\u001b[0m\u001b[37m\u001b[0m \u001b[1m6s\u001b[0m 3ms/step - accuracy: 0.9853 - loss: 0.0499 - val_accuracy: 0.9858 - val_loss: 0.0495\n",
      "Epoch 5/7\n",
      "\u001b[1m1688/1688\u001b[0m \u001b[32m━━━━━━━━━━━━━━━━━━━━\u001b[0m\u001b[37m\u001b[0m \u001b[1m7s\u001b[0m 4ms/step - accuracy: 0.9876 - loss: 0.0407 - val_accuracy: 0.9870 - val_loss: 0.0481\n",
      "Epoch 6/7\n",
      "\u001b[1m1688/1688\u001b[0m \u001b[32m━━━━━━━━━━━━━━━━━━━━\u001b[0m\u001b[37m\u001b[0m \u001b[1m10s\u001b[0m 4ms/step - accuracy: 0.9905 - loss: 0.0305 - val_accuracy: 0.9872 - val_loss: 0.0437\n",
      "Epoch 7/7\n",
      "\u001b[1m1688/1688\u001b[0m \u001b[32m━━━━━━━━━━━━━━━━━━━━\u001b[0m\u001b[37m\u001b[0m \u001b[1m7s\u001b[0m 4ms/step - accuracy: 0.9921 - loss: 0.0252 - val_accuracy: 0.9887 - val_loss: 0.0414\n",
      "predicting\n",
      "\u001b[1m313/313\u001b[0m \u001b[32m━━━━━━━━━━━━━━━━━━━━\u001b[0m\u001b[37m\u001b[0m \u001b[1m1s\u001b[0m 2ms/step\n",
      "Accuracy: 0.9900\n"
     ]
    }
   ],
   "source": [
    "print(\"CNN\")\n",
    "cnn = CNN(learning_rate=0.0001)\n",
    "classifier = MnistClassifier(cnn)\n",
    "classifier.train(X_train_cnn, y_train_cat, epochs = 10, batch_size=32)\n",
    "predictions = classifier.predict(X_test_cnn)\n",
    "predictions_classes = np.argmax(predictions, axis=1)\n",
    "accuracy = accuracy_score(y_test, predictions_classes)\n",
    "print(f\"Accuracy: {accuracy:.4f}\")"
   ]
  },
  {
   "cell_type": "code",
   "execution_count": 14,
   "metadata": {
    "colab": {
     "base_uri": "https://localhost:8080/",
     "height": 472
    },
    "executionInfo": {
     "elapsed": 322,
     "status": "ok",
     "timestamp": 1740263250659,
     "user": {
      "displayName": "Анна Вечірська",
      "userId": "09847765497451588166"
     },
     "user_tz": -120
    },
    "id": "To20EDNUnxkv",
    "outputId": "da6e3f10-35ea-470e-d565-5aacff71ed3e"
   },
   "outputs": [
    {
     "data": {
      "image/png": "[encoded data removed]",
      "text/plain": [
       "<Figure size 640x480 with 1 Axes>"
      ]
     },
     "metadata": {},
     "output_type": "display_data"
    }
   ],
   "source": [
    "history = cnn.history.history\n",
    "plt.plot(history['loss'], label='Train loss')\n",
    "plt.plot(history['val_loss'], label='Validation loss')\n",
    "plt.title(\"Convolutional Neural Network Training Loss\")\n",
    "plt.xlabel(\"Epochs\")\n",
    "plt.ylabel(\"Loss\")\n",
    "plt.legend()\n",
    "plt.show()"
   ]
  }
 ],
 "metadata": {
  "accelerator": "GPU",
  "colab": {
   "gpuType": "T4",
   "provenance": []
  },
  "kernelspec": {
   "display_name": "Python 3",
   "name": "python3"
  },
  "language_info": {
   "codemirror_mode": {
    "name": "ipython",
    "version": 3
   },
   "file_extension": ".py",
   "mimetype": "text/x-python",
   "name": "python",
   "nbconvert_exporter": "python",
   "pygments_lexer": "ipython3",
   "version": "3.11.3"
  }
 },
 "nbformat": 4,
 "nbformat_minor": 0
}
